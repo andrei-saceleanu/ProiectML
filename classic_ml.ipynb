{
 "cells": [
  {
   "cell_type": "code",
   "execution_count": 40,
   "metadata": {},
   "outputs": [],
   "source": [
    "import numpy as np\n",
    "import pandas as pd \n",
    "import os\n",
    "from sktime.datasets import load_from_arff_to_dataframe\n",
    "from pyts.utils import windowed_view\n",
    "from scipy.signal import find_peaks\n",
    "from scipy.stats import skew, kurtosis"
   ]
  },
  {
   "cell_type": "code",
   "execution_count": 2,
   "metadata": {},
   "outputs": [],
   "source": [
    "DATA_PATH = \"data\"\n",
    "X_train, y_train = load_from_arff_to_dataframe(\n",
    "    os.path.join(DATA_PATH, \"RacketSports/RacketSports_TRAIN.arff\")\n",
    ")\n",
    "\n",
    "X_test, y_test = load_from_arff_to_dataframe(\n",
    "    os.path.join(DATA_PATH, \"RacketSports/RacketSports_TEST.arff\")\n",
    ")"
   ]
  },
  {
   "cell_type": "code",
   "execution_count": 3,
   "metadata": {},
   "outputs": [],
   "source": [
    "def dataframe2numpy(X):\n",
    "    N = len(X)\n",
    "    S = len(X.iloc[0][0])\n",
    "    H = len(X.columns)\n",
    "    return np.stack(X.values.reshape(-1)).reshape(N,S,H)"
   ]
  },
  {
   "cell_type": "code",
   "execution_count": 4,
   "metadata": {},
   "outputs": [],
   "source": [
    "rs_train = dataframe2numpy(X_train)"
   ]
  },
  {
   "cell_type": "code",
   "execution_count": 5,
   "metadata": {},
   "outputs": [
    {
     "data": {
      "text/plain": [
       "(151, 30, 6)"
      ]
     },
     "execution_count": 5,
     "metadata": {},
     "output_type": "execute_result"
    }
   ],
   "source": [
    "rs_train.shape"
   ]
  },
  {
   "cell_type": "code",
   "execution_count": 43,
   "metadata": {},
   "outputs": [
    {
     "data": {
      "text/plain": [
       "(151, 1)"
      ]
     },
     "execution_count": 43,
     "metadata": {},
     "output_type": "execute_result"
    }
   ],
   "source": [
    "# Series mean per axis (151, 6)\n",
    "rs_train.mean(1)\n",
    "\n",
    "# Series std per axis (151, 6)\n",
    "rs_train.std(1)\n",
    "\n",
    "# Series mean absolute dev per axis (151, 6)\n",
    "np.abs(rs_train - rs_train.mean(1)[:, np.newaxis, :]).mean(1)\n",
    "\n",
    "# Series min per axis (151, 6)\n",
    "rs_train.min(1)\n",
    "\n",
    "# Series min per axis (151, 6)\n",
    "rs_train.max(1)\n",
    "\n",
    "# Series Diff max-min per axis\n",
    "rs_train.max(1) - rs_train.min(1)\n",
    "\n",
    "# Series median per axis\n",
    "np.median(rs_train, axis=1)\n",
    "\n",
    "# Series median absolute dev\n",
    "np.median(np.abs(rs_train - np.median(rs_train,1)[:, np.newaxis, :]),1)\n",
    "\n",
    "# Series IQR per axis\n",
    "np.subtract(*np.percentile(rs_train,[75, 25],1))\n",
    "\n",
    "# Series count negative per axis\n",
    "np.count_nonzero(rs_train < 0, 1)\n",
    "\n",
    "# Series count positive per axis\n",
    "np.count_nonzero(rs_train >= 0, 1)\n",
    "\n",
    "# Series count above mean per axis\n",
    "np.count_nonzero(rs_train > rs_train.mean(1)[:, np.newaxis, :], 1)\n",
    "\n",
    "# Series count peaks per axis\n",
    "np.apply_along_axis(lambda x: len(find_peaks(x)[0]), 1, rs_train)\n",
    "\n",
    "# Series skew\n",
    "skew(rs_train,axis=1)\n",
    "\n",
    "# Series kurtosis\n",
    "kurtosis(rs_train, axis=1)\n",
    "\n",
    "# Series energy per axis\n",
    "np.mean(rs_train**2,axis=1)\n",
    "\n",
    "# Series acceleration\n",
    "np.mean(np.sqrt(np.sum(rs_train**2,axis=-1)),axis=1)[:, np.newaxis]\n",
    "\n",
    "# Series signal mag area\n",
    "np.sum(np.mean(np.abs(rs_train),axis=1),axis=1)[:, np.newaxis].shape"
   ]
  },
  {
   "cell_type": "code",
   "execution_count": 44,
   "metadata": {},
   "outputs": [
    {
     "data": {
      "text/plain": [
       "(151, 7, 10, 6)"
      ]
     },
     "execution_count": 44,
     "metadata": {},
     "output_type": "execute_result"
    }
   ],
   "source": [
    "q = np.stack([windowed_view(rs_train[:,:,idx],10,3) for idx in range(rs_train.shape[-1])], axis=-1)\n",
    "q.shape"
   ]
  },
  {
   "cell_type": "code",
   "execution_count": null,
   "metadata": {},
   "outputs": [],
   "source": []
  }
 ],
 "metadata": {
  "kernelspec": {
   "display_name": "Python 3",
   "language": "python",
   "name": "python3"
  },
  "language_info": {
   "codemirror_mode": {
    "name": "ipython",
    "version": 3
   },
   "file_extension": ".py",
   "mimetype": "text/x-python",
   "name": "python",
   "nbconvert_exporter": "python",
   "pygments_lexer": "ipython3",
   "version": "3.10.6"
  },
  "orig_nbformat": 4
 },
 "nbformat": 4,
 "nbformat_minor": 2
}
