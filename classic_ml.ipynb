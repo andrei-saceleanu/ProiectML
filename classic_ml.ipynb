{
 "cells": [
  {
   "cell_type": "code",
   "execution_count": 1,
   "metadata": {},
   "outputs": [],
   "source": [
    "import numpy as np\n",
    "import pandas as pd \n",
    "import seaborn as sns\n",
    "import os\n",
    "from sktime.datasets import load_from_arff_to_dataframe\n",
    "from pyts.utils import windowed_view\n",
    "from scipy.signal import find_peaks\n",
    "from scipy.stats import skew, kurtosis\n",
    "from sklearn.model_selection import train_test_split\n",
    "from sklearn.svm import SVC\n",
    "from sklearn.ensemble import RandomForestClassifier\n",
    "from sklearn.model_selection import GridSearchCV\n",
    "from xgboost import XGBClassifier\n",
    "from sklearn.preprocessing import StandardScaler\n",
    "from sklearn.feature_selection import VarianceThreshold\n",
    "from sklearn.metrics import accuracy_score, classification_report, precision_recall_fscore_support, confusion_matrix"
   ]
  },
  {
   "attachments": {},
   "cell_type": "markdown",
   "metadata": {},
   "source": [
    "# Feature extraction"
   ]
  },
  {
   "cell_type": "code",
   "execution_count": 62,
   "metadata": {},
   "outputs": [],
   "source": [
    "def feature_extraction(data, apply_fft=True):\n",
    "\n",
    "    def aux_extract(data):\n",
    "        features = []\n",
    "        features.append(data.mean(1))\n",
    "        features.append(data.std(1))\n",
    "        features.append(np.abs(data - data.mean(1)[:, np.newaxis, :]).mean(1))\n",
    "        features.append(data.min(1))\n",
    "        features.append(data.max(1))\n",
    "        features.append(data.max(1) - data.min(1))\n",
    "\n",
    "        features.append(np.median(data, axis=1))\n",
    "        features.append(np.median(np.abs(data - np.median(data,1)[:, np.newaxis, :]),1))\n",
    "        features.append(np.subtract(*np.percentile(data,[75, 25],1)))\n",
    "        features.append(np.count_nonzero(data < 0, 1))\n",
    "        features.append(np.count_nonzero(data >= 0, 1))\n",
    "        features.append(np.count_nonzero(data > data.mean(1)[:, np.newaxis, :], 1))\n",
    "\n",
    "        features.append(np.apply_along_axis(lambda x: len(find_peaks(x)[0]), 1, data))\n",
    "        features.append(np.nan_to_num(skew(data,axis=1)))\n",
    "        features.append(np.nan_to_num(kurtosis(data, axis=1)))\n",
    "        features.append(np.mean(data**2,axis=1))\n",
    "        features.append(np.mean(np.sqrt(np.sum(data**2,axis=-1)),axis=1)[:, np.newaxis])\n",
    "        features.append(np.sum(np.mean(np.abs(data),axis=1),axis=1)[:, np.newaxis])\n",
    "\n",
    "        features = np.concatenate(features,axis=1)\n",
    "\n",
    "        return features\n",
    "    \n",
    "    seq_len = data.shape[1]\n",
    "    fft_data = np.abs(np.fft.fft(data,axis=1))[:, 1:(seq_len//2+1), :]\n",
    "\n",
    "    result = aux_extract(data)\n",
    "    if apply_fft:\n",
    "        result = np.concatenate([result, aux_extract(fft_data)],axis=1)\n",
    "\n",
    "    return result"
   ]
  },
  {
   "cell_type": "code",
   "execution_count": 63,
   "metadata": {},
   "outputs": [],
   "source": [
    "def feature_extraction_window(data, window_size=10, window_step=3, apply_fft=True):\n",
    "\n",
    "    data = np.stack(\n",
    "        [\n",
    "            windowed_view(data[:,:,idx], window_size, window_step)\n",
    "            for idx in range(data.shape[-1])\n",
    "        ],\n",
    "        axis=-1\n",
    "    )\n",
    "\n",
    "    def aux_extract(data, prefix=\"\"):\n",
    "        n_samples, n_windows, _, dims = data.shape\n",
    "\n",
    "        features = []\n",
    "        feature_names = []\n",
    "        features.append(data.mean(2).reshape(n_samples,-1))\n",
    "        feature_names.extend([f\"{prefix}mean{i}_dim{j}\" for i in range(n_windows) for j in range(dims)])\n",
    "    \n",
    "        features.append(data.std(2).reshape(n_samples,-1))\n",
    "        feature_names.extend([f\"{prefix}std{i}_dim{j}\" for i in range(n_windows) for j in range(dims)])\n",
    "\n",
    "        features.append(np.abs(data - data.mean(2)[:, :, np.newaxis, :]).mean(2).reshape(n_samples,-1))\n",
    "        feature_names.extend([f\"{prefix}mae{i}_dim{j}\" for i in range(n_windows) for j in range(dims)])\n",
    "    \n",
    "        features.append(data.min(2).reshape(n_samples,-1))\n",
    "        feature_names.extend([f\"{prefix}min{i}_dim{j}\" for i in range(n_windows) for j in range(dims)])\n",
    "\n",
    "        features.append(data.max(2).reshape(n_samples,-1))\n",
    "        feature_names.extend([f\"{prefix}max{i}_dim{j}\" for i in range(n_windows) for j in range(dims)])\n",
    "\n",
    "        features.append(data.max(2).reshape(n_samples,-1) - data.min(2).reshape(n_samples,-1))\n",
    "        feature_names.extend([f\"{prefix}extremadiff{i}_dim{j}\" for i in range(n_windows) for j in range(dims)])\n",
    "\n",
    "        features.append(np.median(data, axis=2).reshape(n_samples,-1))\n",
    "        feature_names.extend([f\"{prefix}median{i}_dim{j}\" for i in range(n_windows) for j in range(dims)])\n",
    "\n",
    "        features.append(np.median(np.abs(data - np.median(data,2)[:, :, np.newaxis, :]),2).reshape(n_samples,-1))\n",
    "        feature_names.extend([f\"{prefix}mad{i}_dim{j}\" for i in range(n_windows) for j in range(dims)])\n",
    "\n",
    "        features.append(np.subtract(*np.percentile(data,[75, 25],2)).reshape(n_samples,-1))\n",
    "        feature_names.extend([f\"{prefix}iqr{i}_dim{j}\" for i in range(n_windows) for j in range(dims)])\n",
    "\n",
    "        features.append(np.count_nonzero(data < 0, 2).reshape(n_samples,-1))\n",
    "        feature_names.extend([f\"{prefix}neg{i}_dim{j}\" for i in range(n_windows) for j in range(dims)])\n",
    "\n",
    "        features.append(np.count_nonzero(data >= 0, 2).reshape(n_samples,-1))\n",
    "        feature_names.extend([f\"{prefix}pos{i}_dim{j}\" for i in range(n_windows) for j in range(dims)])\n",
    "\n",
    "        features.append(np.count_nonzero(data > data.mean(2)[:, :, np.newaxis, :], 2).reshape(n_samples,-1))\n",
    "        feature_names.extend([f\"{prefix}above_mean{i}_dim{j}\" for i in range(n_windows) for j in range(dims)])\n",
    "\n",
    "        features.append(np.apply_along_axis(lambda x: len(find_peaks(x)[0]), 2, data).reshape(n_samples,-1))\n",
    "        feature_names.extend([f\"{prefix}peaks{i}_dim{j}\" for i in range(n_windows) for j in range(dims)])\n",
    "\n",
    "        features.append(np.nan_to_num(skew(data,axis=2).reshape(n_samples,-1)))\n",
    "        feature_names.extend([f\"{prefix}skew{i}_dim{j}\" for i in range(n_windows) for j in range(dims)])\n",
    "\n",
    "        features.append(np.nan_to_num(kurtosis(data, axis=2).reshape(n_samples,-1)))\n",
    "        feature_names.extend([f\"{prefix}krt{i}_dim{j}\" for i in range(n_windows) for j in range(dims)])\n",
    "\n",
    "        features.append(np.mean(data**2,axis=2).reshape(n_samples,-1))\n",
    "        feature_names.extend([f\"{prefix}energy{i}_dim{j}\" for i in range(n_windows) for j in range(dims)])\n",
    "\n",
    "        features.append(np.mean(np.sqrt(np.sum(data**2,axis=-1)),axis=2)[:, :, np.newaxis].reshape(n_samples,-1))\n",
    "        feature_names.extend([f\"{prefix}acc{i}\" for i in range(n_windows)])\n",
    "\n",
    "        features.append(np.sum(np.mean(np.abs(data),axis=2),axis=2)[:, :, np.newaxis].reshape(n_samples,-1))\n",
    "        feature_names.extend([f\"{prefix}sma{i}\" for i in range(n_windows)])\n",
    "\n",
    "        features = np.concatenate(features,axis=1)\n",
    "\n",
    "        return features, feature_names\n",
    "    \n",
    "    seq_len = data.shape[2]\n",
    "    fft_data = np.abs(np.fft.fft(data, axis=2))[:, :, 1:(seq_len//2+1), :]\n",
    "    result,res_names = aux_extract(data)\n",
    "    if apply_fft:\n",
    "        fft_res, fft_feat = aux_extract(fft_data, \"fft_\")\n",
    "        result = np.concatenate([result, fft_res],axis=1)\n",
    "        res_names = res_names + fft_feat\n",
    "    return result, res_names"
   ]
  },
  {
   "attachments": {},
   "cell_type": "markdown",
   "metadata": {},
   "source": [
    "# Read data + convert numpy"
   ]
  },
  {
   "cell_type": "code",
   "execution_count": 78,
   "metadata": {},
   "outputs": [],
   "source": [
    "DATASET = \"racketsports\" # [\"racketsports\", \"mitbih\", \"ptbdb\"]\n",
    "DATA_PATH = \"data\"\n",
    "LABEL_COL = 187"
   ]
  },
  {
   "cell_type": "code",
   "execution_count": 79,
   "metadata": {},
   "outputs": [],
   "source": [
    "def dataframe2numpy(X):\n",
    "    N = len(X)\n",
    "    S = len(X.iloc[0][0])\n",
    "    H = len(X.columns)\n",
    "    return np.stack(X.values.reshape(-1)).reshape(N,S,H)"
   ]
  },
  {
   "cell_type": "code",
   "execution_count": 80,
   "metadata": {},
   "outputs": [],
   "source": [
    "if DATASET == \"racketsports\":\n",
    "\n",
    "    X_train, y_train = load_from_arff_to_dataframe(\n",
    "        os.path.join(DATA_PATH, \"RacketSports/RacketSports_TRAIN.arff\")\n",
    "    )\n",
    "\n",
    "    X_test, y_test = load_from_arff_to_dataframe(\n",
    "        os.path.join(DATA_PATH, \"RacketSports/RacketSports_TEST.arff\")\n",
    "    )\n",
    "\n",
    "    rs_train = dataframe2numpy(X_train)\n",
    "    rs_test = dataframe2numpy(X_test)\n",
    "\n",
    "    label2id = {el:i for i, el in enumerate(list(np.unique(y_train)))}\n",
    "\n",
    "    target_train = pd.Series(y_train).apply(lambda x:label2id[x]).values\n",
    "    target_test = pd.Series(y_test).apply(lambda x:label2id[x]).values\n",
    "\n",
    "    train_features, feature_names = feature_extraction_window(rs_train)\n",
    "    test_features,_ = feature_extraction_window(rs_test)\n",
    "\n",
    "elif DATASET == \"mitbih\":\n",
    "\n",
    "    mit_bih_train = pd.read_csv(os.path.join(\"data\",\"ECG\",\"mitbih_train.csv\"),header=None)\n",
    "    target_train = mit_bih_train[LABEL_COL].copy().values\n",
    "    mit_bih_train.drop(LABEL_COL,axis=1,inplace=True)\n",
    "\n",
    "    mit_bih_test = pd.read_csv(os.path.join(\"data\",\"ECG\",\"mitbih_test.csv\"),header=None)\n",
    "    target_test = mit_bih_test[LABEL_COL].copy().values\n",
    "    mit_bih_test.drop(LABEL_COL,axis=1,inplace=True)\n",
    "\n",
    "    mitbih_train = mit_bih_train.values\n",
    "    mitbih_test = mit_bih_test.values\n",
    "\n",
    "    train_features,feature_names = feature_extraction_window(mitbih_train[:,:,np.newaxis], 20, 8)\n",
    "    test_features,_ = feature_extraction_window(mitbih_test[:,:,np.newaxis], 20, 8)\n",
    "\n",
    "elif DATASET == \"ptbdb\":\n",
    "    \n",
    "    abnormal = pd.read_csv(os.path.join(\"data\",\"ECG\",\"ptbdb_abnormal.csv\"),header=None)\n",
    "    normal = pd.read_csv(os.path.join(\"data\",\"ECG\",\"ptbdb_normal.csv\"),header=None)\n",
    "\n",
    "    train_abn, test_abn = train_test_split(abnormal, test_size=0.2, random_state=42)\n",
    "    train_nor, test_nor = train_test_split(normal, test_size=0.2, random_state=42)\n",
    "\n",
    "    ptbdb_train = pd.concat([train_abn, train_nor]).sample(frac=1, random_state=42).reset_index(drop=True)\n",
    "    ptbdb_test = pd.concat([test_abn, test_nor]).sample(frac=1, random_state=42).reset_index(drop=True)\n",
    "\n",
    "    target_train = ptbdb_train[LABEL_COL].copy()\n",
    "    ptbdb_train.drop(LABEL_COL,axis=1,inplace=True)\n",
    "\n",
    "    target_test = ptbdb_test[LABEL_COL].copy()\n",
    "    ptbdb_test.drop(LABEL_COL,axis=1,inplace=True)\n",
    "\n",
    "    ptbdb_train = ptbdb_train.values\n",
    "    ptbdb_test = ptbdb_test.values\n",
    "\n",
    "    train_features, feature_names = feature_extraction_window(ptbdb_train[:,:,np.newaxis],20,8)\n",
    "    test_features,_ = feature_extraction_window(ptbdb_test[:,:,np.newaxis],20,8)\n",
    "    \n"
   ]
  },
  {
   "attachments": {},
   "cell_type": "markdown",
   "metadata": {},
   "source": [
    "# Feature selection & standardization"
   ]
  },
  {
   "cell_type": "code",
   "execution_count": 81,
   "metadata": {},
   "outputs": [],
   "source": [
    "selecter = VarianceThreshold(2.0)\n",
    "scaler = StandardScaler()"
   ]
  },
  {
   "cell_type": "code",
   "execution_count": 82,
   "metadata": {},
   "outputs": [],
   "source": [
    "selecter = selecter.fit(train_features)\n",
    "selected_train = selecter.transform(train_features)\n",
    "selected_test = selecter.transform(test_features)"
   ]
  },
  {
   "cell_type": "code",
   "execution_count": 83,
   "metadata": {},
   "outputs": [],
   "source": [
    "scaler = scaler.fit(selected_train)\n",
    "scaled_train = scaler.transform(selected_train)\n",
    "scaled_test = scaler.transform(selected_test)"
   ]
  },
  {
   "cell_type": "code",
   "execution_count": 84,
   "metadata": {},
   "outputs": [
    {
     "name": "stdout",
     "output_type": "stream",
     "text": [
      "(151, 1372) (151, 902)\n"
     ]
    }
   ],
   "source": [
    "print(train_features.shape, scaled_train.shape)"
   ]
  },
  {
   "cell_type": "code",
   "execution_count": 85,
   "metadata": {},
   "outputs": [
    {
     "data": {
      "text/plain": [
       "902"
      ]
     },
     "execution_count": 85,
     "metadata": {},
     "output_type": "execute_result"
    }
   ],
   "source": [
    "idxs = selecter.get_support(indices=True)\n",
    "selected_feats = [elem for i,elem in enumerate(feature_names) if i in idxs]\n",
    "len(selected_feats)"
   ]
  },
  {
   "attachments": {},
   "cell_type": "markdown",
   "metadata": {},
   "source": [
    "# Hyperparameter search"
   ]
  },
  {
   "cell_type": "code",
   "execution_count": 12,
   "metadata": {},
   "outputs": [],
   "source": [
    "MODEL_NAME = \"svm\" # [\"svm\", \"rforest\", \"xgb\"]\n",
    "MODEL = None\n",
    "MODEL_PARAMS = None"
   ]
  },
  {
   "cell_type": "code",
   "execution_count": 13,
   "metadata": {},
   "outputs": [],
   "source": [
    "if MODEL_NAME == \"svm\":\n",
    "    MODEL = SVC()\n",
    "    MODEL_PARAMS = {\n",
    "        \"kernel\":[\"linear\"],\n",
    "        \"C\":[1.0, 10.0]\n",
    "    }\n",
    "\n",
    "elif MODEL_NAME == \"rforest\":\n",
    "    MODEL = RandomForestClassifier()\n",
    "    MODEL_PARAMS = {\n",
    "        \"n_estimators\":range(40,301,20),\n",
    "        \"max_depth\":[3, 5, 8, 12],\n",
    "        \"max_samples\":[0.4, 0.7, 1.0]\n",
    "    }\n",
    "\n",
    "elif MODEL_NAME == \"xgb\":\n",
    "    MODEL = XGBClassifier()\n",
    "    MODEL_PARAMS = {\n",
    "        \"n_estimators\":range(40,101,20),\n",
    "        \"max_depth\":[3, 5, 8],\n",
    "        \"learning_rate\":[1e-3, 1e-2, 1e-1]\n",
    "    }\n",
    "\n",
    "else:\n",
    "    print(\"Untested model\")"
   ]
  },
  {
   "cell_type": "code",
   "execution_count": 14,
   "metadata": {},
   "outputs": [],
   "source": [
    "clf = GridSearchCV(MODEL, MODEL_PARAMS,scoring=[\"accuracy\", \"precision_macro\", \"recall_macro\", \"f1_macro\"], refit=\"accuracy\", n_jobs=-1)"
   ]
  },
  {
   "cell_type": "code",
   "execution_count": null,
   "metadata": {},
   "outputs": [],
   "source": [
    "clf = clf.fit(scaled_train, target_train)"
   ]
  },
  {
   "cell_type": "code",
   "execution_count": 16,
   "metadata": {},
   "outputs": [
    {
     "data": {
      "text/plain": [
       "{'learning_rate': 0.1, 'max_depth': 8, 'n_estimators': 100}"
      ]
     },
     "execution_count": 16,
     "metadata": {},
     "output_type": "execute_result"
    }
   ],
   "source": [
    "clf.best_params_"
   ]
  },
  {
   "attachments": {},
   "cell_type": "markdown",
   "metadata": {},
   "source": [
    "# Evaluation"
   ]
  },
  {
   "cell_type": "code",
   "execution_count": 17,
   "metadata": {},
   "outputs": [],
   "source": [
    "cols = [\n",
    "    \"params\",\n",
    "    \"mean_test_accuracy\",\n",
    "    \"std_test_accuracy\",\n",
    "    \"mean_test_precision_macro\",\n",
    "    \"std_test_precision_macro\",\n",
    "    \"mean_test_recall_macro\",\n",
    "    \"std_test_recall_macro\",\n",
    "    \"mean_test_f1_macro\",\n",
    "    \"std_test_f1_macro\"\n",
    "]\n",
    "\n",
    "grid_results = pd.DataFrame(clf.cv_results_)[cols]"
   ]
  },
  {
   "cell_type": "code",
   "execution_count": 18,
   "metadata": {},
   "outputs": [],
   "source": [
    "grid_results.params = grid_results.params.apply(\n",
    "    lambda x: \", \".join([f\"{k}={v}\" for k, v in x.items()])\n",
    ")"
   ]
  },
  {
   "cell_type": "code",
   "execution_count": 19,
   "metadata": {},
   "outputs": [],
   "source": [
    "grid_results.columns = list(map(lambda s:s.replace(\"_test\",\"\"),grid_results.columns))\n",
    "grid_results = grid_results.round(3)"
   ]
  },
  {
   "cell_type": "code",
   "execution_count": 20,
   "metadata": {},
   "outputs": [],
   "source": [
    "grid_results.to_excel(f\"{DATASET}_{MODEL_NAME}_cv.xlsx\")"
   ]
  },
  {
   "cell_type": "code",
   "execution_count": 32,
   "metadata": {},
   "outputs": [
    {
     "name": "stdout",
     "output_type": "stream",
     "text": [
      "0\n"
     ]
    }
   ],
   "source": [
    "results_df = []\n",
    "\n",
    "for i, params in enumerate(pd.DataFrame(clf.cv_results_)[\"params\"]):\n",
    "    if MODEL_NAME == \"svm\":\n",
    "        curr_model = SVC(**params)\n",
    "    elif MODEL_NAME == \"rforest\":\n",
    "        curr_model = RandomForestClassifier(**params)\n",
    "    elif MODEL_NAME == \"xgb\":\n",
    "        curr_model = XGBClassifier(**params)\n",
    "    \n",
    "    curr_model = curr_model.fit(scaled_train, target_train)\n",
    "\n",
    "    y_true = target_test\n",
    "    y_pred = curr_model.predict(scaled_test)\n",
    "\n",
    "\n",
    "    param_str = \", \".join([f\"{k}={v}\" for k,v in params.items()])\n",
    "    row = [param_str]\n",
    "    \n",
    "    accuracy = accuracy_score(y_true, y_pred)\n",
    "    row.append(accuracy)\n",
    "    res = list(map(np.mean, precision_recall_fscore_support(y_true, y_pred, zero_division=0)))\n",
    "    res2 = list(map(np.std, precision_recall_fscore_support(y_true, y_pred, zero_division=0)))\n",
    "    \n",
    "    mean_std = zip(res[:-1], res2[:-1])\n",
    "    for mean_std_tuple in mean_std:\n",
    "        row.extend(list(mean_std_tuple))\n",
    "\n",
    "    results_df.append(row)\n",
    "    if i % 10 == 0:\n",
    "        print(i)\n"
   ]
  },
  {
   "cell_type": "code",
   "execution_count": 33,
   "metadata": {},
   "outputs": [],
   "source": [
    "columns = [\n",
    "    \"Hyperparameters\",\n",
    "    \"Accuracy\",\n",
    "    \"Mean precision\",\n",
    "    \"Std precision\",\n",
    "    \"Mean recall\",\n",
    "    \"Std recall\",\n",
    "    \"Mean f1\",\n",
    "    \"Std f1\"\n",
    "]\n",
    "\n",
    "df = pd.DataFrame(results_df,columns=columns).round(3)\n",
    "df.to_excel(f\"{DATASET}_{MODEL_NAME}_results2.xlsx\")\n",
    "# df"
   ]
  },
  {
   "cell_type": "code",
   "execution_count": 21,
   "metadata": {},
   "outputs": [
    {
     "name": "stdout",
     "output_type": "stream",
     "text": [
      "              precision    recall  f1-score   support\n",
      "\n",
      "         0.0       0.97      1.00      0.99     18118\n",
      "         1.0       0.97      0.63      0.76       556\n",
      "         2.0       0.95      0.89      0.92      1448\n",
      "         3.0       0.85      0.64      0.73       162\n",
      "         4.0       0.99      0.94      0.96      1608\n",
      "\n",
      "    accuracy                           0.97     21892\n",
      "   macro avg       0.95      0.82      0.87     21892\n",
      "weighted avg       0.97      0.97      0.97     21892\n",
      "\n"
     ]
    }
   ],
   "source": [
    "res = classification_report(target_test, clf.predict(scaled_test))\n",
    "print(res)"
   ]
  },
  {
   "cell_type": "code",
   "execution_count": 54,
   "metadata": {},
   "outputs": [
    {
     "data": {
      "text/plain": [
       "<AxesSubplot: >"
      ]
     },
     "execution_count": 54,
     "metadata": {},
     "output_type": "execute_result"
    },
    {
     "data": {
      "image/png": "[encoded data removed]",
      "text/plain": [
       "<Figure size 432x288 with 2 Axes>"
      ]
     },
     "metadata": {
      "needs_background": "light"
     },
     "output_type": "display_data"
    }
   ],
   "source": [
    "res = confusion_matrix(target_test, clf.predict(scaled_test))\n",
    "sns.heatmap(res,annot=True,fmt='.0f',vmin=0,vmax=2000)"
   ]
  },
  {
   "attachments": {},
   "cell_type": "markdown",
   "metadata": {},
   "source": [
    "# Feature importance"
   ]
  },
  {
   "attachments": {},
   "cell_type": "markdown",
   "metadata": {},
   "source": [
    "## Tree based estimators"
   ]
  },
  {
   "cell_type": "code",
   "execution_count": 22,
   "metadata": {},
   "outputs": [],
   "source": [
    "model = clf.best_estimator_"
   ]
  },
  {
   "cell_type": "code",
   "execution_count": 23,
   "metadata": {},
   "outputs": [
    {
     "data": {
      "text/plain": [
       "(74,)"
      ]
     },
     "execution_count": 23,
     "metadata": {},
     "output_type": "execute_result"
    }
   ],
   "source": [
    "model.feature_importances_.shape"
   ]
  },
  {
   "cell_type": "code",
   "execution_count": null,
   "metadata": {},
   "outputs": [],
   "source": [
    "[selected_feats[idx] for idx in np.argsort(model.feature_importances_)[::-1]]"
   ]
  }
 ],
 "metadata": {
  "kernelspec": {
   "display_name": "Python 3",
   "language": "python",
   "name": "python3"
  },
  "language_info": {
   "codemirror_mode": {
    "name": "ipython",
    "version": 3
   },
   "file_extension": ".py",
   "mimetype": "text/x-python",
   "name": "python",
   "nbconvert_exporter": "python",
   "pygments_lexer": "ipython3",
   "version": "3.10.6"
  },
  "orig_nbformat": 4
 },
 "nbformat": 4,
 "nbformat_minor": 2
}
